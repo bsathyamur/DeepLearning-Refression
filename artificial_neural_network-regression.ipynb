{
 "cells": [
  {
   "cell_type": "markdown",
   "metadata": {
    "colab_type": "text",
    "id": "3cbb7fRy-eyr"
   },
   "source": [
    "# ANN to predict Net hourly electrical energy of a power plant"
   ]
  },
  {
   "cell_type": "markdown",
   "metadata": {
    "colab_type": "text",
    "id": "8sNDnxE2-pwE"
   },
   "source": [
    "### Importing the libraries"
   ]
  },
  {
   "cell_type": "code",
   "execution_count": 1,
   "metadata": {
    "colab": {},
    "colab_type": "code",
    "id": "lxChR1Rk-umf"
   },
   "outputs": [],
   "source": [
    "import numpy as np\n",
    "import pandas as pd\n",
    "import tensorflow as tf"
   ]
  },
  {
   "cell_type": "code",
   "execution_count": 2,
   "metadata": {
    "colab": {
     "base_uri": "https://localhost:8080/",
     "height": 34
    },
    "colab_type": "code",
    "id": "uBTqR3nacj0e",
    "outputId": "4c0bd183-e424-429a-9fba-ceb841c06888"
   },
   "outputs": [
    {
     "data": {
      "text/plain": [
       "'2.1.0'"
      ]
     },
     "execution_count": 2,
     "metadata": {},
     "output_type": "execute_result"
    }
   ],
   "source": [
    "tf.__version__"
   ]
  },
  {
   "cell_type": "markdown",
   "metadata": {
    "colab_type": "text",
    "id": "AG3FQEch-yuA"
   },
   "source": [
    "## Part 1 - Data Preprocessing"
   ]
  },
  {
   "cell_type": "markdown",
   "metadata": {
    "colab_type": "text",
    "id": "-4zq8Mza_D9O"
   },
   "source": [
    "### Importing the dataset"
   ]
  },
  {
   "cell_type": "code",
   "execution_count": 3,
   "metadata": {
    "colab": {},
    "colab_type": "code",
    "id": "B9CV13Co_HHM"
   },
   "outputs": [],
   "source": [
    "dataset = pd.read_excel('Folds5x2_pp.xlsx')\n",
    "X = dataset.iloc[:, :-1].values\n",
    "y = dataset.iloc[:, -1].values"
   ]
  },
  {
   "cell_type": "markdown",
   "metadata": {
    "colab_type": "text",
    "id": "VC6omXel_Up0"
   },
   "source": [
    "### Splitting the dataset into the Training set and Test set"
   ]
  },
  {
   "cell_type": "code",
   "execution_count": 4,
   "metadata": {
    "colab": {},
    "colab_type": "code",
    "id": "L5edeb2r_agx"
   },
   "outputs": [],
   "source": [
    "from sklearn.model_selection import train_test_split\n",
    "X_train, X_test, y_train, y_test = train_test_split(X, y, test_size = 0.2, random_state = 0)"
   ]
  },
  {
   "cell_type": "markdown",
   "metadata": {
    "colab_type": "text",
    "id": "_mSLlAT9_eyI"
   },
   "source": [
    "## Part 2 - Building the ANN"
   ]
  },
  {
   "cell_type": "markdown",
   "metadata": {
    "colab_type": "text",
    "id": "CsBULd_f_wLY"
   },
   "source": [
    "### Initializing the ANN"
   ]
  },
  {
   "cell_type": "code",
   "execution_count": 5,
   "metadata": {
    "colab": {},
    "colab_type": "code",
    "id": "J6Hd97Ls__Nz"
   },
   "outputs": [],
   "source": [
    "ann = tf.keras.models.Sequential()"
   ]
  },
  {
   "cell_type": "markdown",
   "metadata": {
    "colab_type": "text",
    "id": "iitAFJS_ABUn"
   },
   "source": [
    "### Adding the input layer and the first hidden layer"
   ]
  },
  {
   "cell_type": "code",
   "execution_count": 6,
   "metadata": {
    "colab": {},
    "colab_type": "code",
    "id": "ksO_Vv40AHix"
   },
   "outputs": [],
   "source": [
    "ann.add(tf.keras.layers.Dense(units=6, activation='relu'))"
   ]
  },
  {
   "cell_type": "markdown",
   "metadata": {
    "colab_type": "text",
    "id": "-lb4kK_wAKbs"
   },
   "source": [
    "### Adding the second hidden layer"
   ]
  },
  {
   "cell_type": "code",
   "execution_count": 7,
   "metadata": {
    "colab": {},
    "colab_type": "code",
    "id": "c2357OqEAQOQ"
   },
   "outputs": [],
   "source": [
    "ann.add(tf.keras.layers.Dense(units=6, activation='relu'))"
   ]
  },
  {
   "cell_type": "markdown",
   "metadata": {
    "colab_type": "text",
    "id": "jwMOmKb3AdBY"
   },
   "source": [
    "### Adding the output layer"
   ]
  },
  {
   "cell_type": "code",
   "execution_count": 8,
   "metadata": {
    "colab": {},
    "colab_type": "code",
    "id": "YFATpzsUAkLL"
   },
   "outputs": [],
   "source": [
    "ann.add(tf.keras.layers.Dense(units=1))"
   ]
  },
  {
   "cell_type": "markdown",
   "metadata": {
    "colab_type": "text",
    "id": "fq7e4fF6A1yy"
   },
   "source": [
    "## Part 3 - Training the ANN"
   ]
  },
  {
   "cell_type": "markdown",
   "metadata": {
    "colab_type": "text",
    "id": "qDeylAs2An25"
   },
   "source": [
    "### Compiling the ANN"
   ]
  },
  {
   "cell_type": "code",
   "execution_count": 9,
   "metadata": {
    "colab": {},
    "colab_type": "code",
    "id": "pesgbWlCAtB4"
   },
   "outputs": [],
   "source": [
    "ann.compile(optimizer = 'adam', loss = 'mean_squared_error')"
   ]
  },
  {
   "cell_type": "markdown",
   "metadata": {
    "colab_type": "text",
    "id": "YjVuiybYOo7r"
   },
   "source": [
    "### Training the ANN model on the Training set"
   ]
  },
  {
   "cell_type": "code",
   "execution_count": 10,
   "metadata": {
    "colab": {
     "base_uri": "https://localhost:8080/",
     "height": 1000
    },
    "colab_type": "code",
    "id": "c_vV-tiiA5zn",
    "outputId": "4a2b6ee6-ed75-4698-9069-b250e613803f"
   },
   "outputs": [
    {
     "name": "stdout",
     "output_type": "stream",
     "text": [
      "Train on 7654 samples\n",
      "Epoch 1/100\n",
      "7654/7654 [==============================] - 1s 137us/sample - loss: 342331.8743\n",
      "Epoch 2/100\n",
      "7654/7654 [==============================] - 1s 69us/sample - loss: 48594.0718\n",
      "Epoch 3/100\n",
      "7654/7654 [==============================] - 1s 66us/sample - loss: 1025.4353\n",
      "Epoch 4/100\n",
      "7654/7654 [==============================] - 0s 65us/sample - loss: 302.2801\n",
      "Epoch 5/100\n",
      "7654/7654 [==============================] - 1s 66us/sample - loss: 299.2625\n",
      "Epoch 6/100\n",
      "7654/7654 [==============================] - 1s 121us/sample - loss: 296.2571\n",
      "Epoch 7/100\n",
      "7654/7654 [==============================] - 1s 124us/sample - loss: 292.5320\n",
      "Epoch 8/100\n",
      "7654/7654 [==============================] - 1s 105us/sample - loss: 288.3983\n",
      "Epoch 9/100\n",
      "7654/7654 [==============================] - 1s 112us/sample - loss: 283.7831\n",
      "Epoch 10/100\n",
      "7654/7654 [==============================] - 1s 65us/sample - loss: 278.4804\n",
      "Epoch 11/100\n",
      "7654/7654 [==============================] - 1s 75us/sample - loss: 272.6706\n",
      "Epoch 12/100\n",
      "7654/7654 [==============================] - 1s 114us/sample - loss: 266.0623\n",
      "Epoch 13/100\n",
      "7654/7654 [==============================] - 1s 116us/sample - loss: 258.9859\n",
      "Epoch 14/100\n",
      "7654/7654 [==============================] - 1s 118us/sample - loss: 251.1657\n",
      "Epoch 15/100\n",
      "7654/7654 [==============================] - 1s 113us/sample - loss: 242.6919\n",
      "Epoch 16/100\n",
      "7654/7654 [==============================] - 1s 116us/sample - loss: 233.6030\n",
      "Epoch 17/100\n",
      "7654/7654 [==============================] - 1s 108us/sample - loss: 223.8854\n",
      "Epoch 18/100\n",
      "7654/7654 [==============================] - 1s 123us/sample - loss: 213.4828\n",
      "Epoch 19/100\n",
      "7654/7654 [==============================] - 1s 81us/sample - loss: 202.6009\n",
      "Epoch 20/100\n",
      "7654/7654 [==============================] - 1s 100us/sample - loss: 191.4177\n",
      "Epoch 21/100\n",
      "7654/7654 [==============================] - 1s 105us/sample - loss: 179.4274\n",
      "Epoch 22/100\n",
      "7654/7654 [==============================] - 1s 79us/sample - loss: 167.0806\n",
      "Epoch 23/100\n",
      "7654/7654 [==============================] - 1s 109us/sample - loss: 154.9901\n",
      "Epoch 24/100\n",
      "7654/7654 [==============================] - 0s 62us/sample - loss: 142.9505\n",
      "Epoch 25/100\n",
      "7654/7654 [==============================] - 1s 69us/sample - loss: 130.8119\n",
      "Epoch 26/100\n",
      "7654/7654 [==============================] - 1s 89us/sample - loss: 119.0745\n",
      "Epoch 27/100\n",
      "7654/7654 [==============================] - 0s 47us/sample - loss: 108.0093\n",
      "Epoch 28/100\n",
      "7654/7654 [==============================] - 1s 89us/sample - loss: 97.8342\n",
      "Epoch 29/100\n",
      "7654/7654 [==============================] - 1s 99us/sample - loss: 87.5889\n",
      "Epoch 30/100\n",
      "7654/7654 [==============================] - 1s 97us/sample - loss: 79.0886\n",
      "Epoch 31/100\n",
      "7654/7654 [==============================] - 1s 95us/sample - loss: 71.2930\n",
      "Epoch 32/100\n",
      "7654/7654 [==============================] - 1s 104us/sample - loss: 64.3995\n",
      "Epoch 33/100\n",
      "7654/7654 [==============================] - 1s 97us/sample - loss: 58.3080\n",
      "Epoch 34/100\n",
      "7654/7654 [==============================] - 1s 117us/sample - loss: 52.9407\n",
      "Epoch 35/100\n",
      "7654/7654 [==============================] - 1s 103us/sample - loss: 48.3749\n",
      "Epoch 36/100\n",
      "7654/7654 [==============================] - 1s 104us/sample - loss: 44.9654\n",
      "Epoch 37/100\n",
      "7654/7654 [==============================] - 1s 73us/sample - loss: 41.5003\n",
      "Epoch 38/100\n",
      "7654/7654 [==============================] - 1s 119us/sample - loss: 38.9720\n",
      "Epoch 39/100\n",
      "7654/7654 [==============================] - 1s 117us/sample - loss: 36.5999\n",
      "Epoch 40/100\n",
      "7654/7654 [==============================] - 1s 87us/sample - loss: 34.5760\n",
      "Epoch 41/100\n",
      "7654/7654 [==============================] - 1s 91us/sample - loss: 33.3150\n",
      "Epoch 42/100\n",
      "7654/7654 [==============================] - 1s 114us/sample - loss: 32.3375\n",
      "Epoch 43/100\n",
      "7654/7654 [==============================] - 1s 69us/sample - loss: 31.2658\n",
      "Epoch 44/100\n",
      "7654/7654 [==============================] - 1s 78us/sample - loss: 30.3753\n",
      "Epoch 45/100\n",
      "7654/7654 [==============================] - 1s 123us/sample - loss: 29.8478\n",
      "Epoch 46/100\n",
      "7654/7654 [==============================] - 1s 94us/sample - loss: 29.7243\n",
      "Epoch 47/100\n",
      "7654/7654 [==============================] - 1s 96us/sample - loss: 29.5182\n",
      "Epoch 48/100\n",
      "7654/7654 [==============================] - 1s 108us/sample - loss: 28.9652\n",
      "Epoch 49/100\n",
      "7654/7654 [==============================] - 1s 114us/sample - loss: 28.6136\n",
      "Epoch 50/100\n",
      "7654/7654 [==============================] - 1s 97us/sample - loss: 28.7405\n",
      "Epoch 51/100\n",
      "7654/7654 [==============================] - 1s 96us/sample - loss: 28.5108\n",
      "Epoch 52/100\n",
      "7654/7654 [==============================] - 1s 99us/sample - loss: 28.5949\n",
      "Epoch 53/100\n",
      "7654/7654 [==============================] - 1s 85us/sample - loss: 28.0739\n",
      "Epoch 54/100\n",
      "7654/7654 [==============================] - 1s 89us/sample - loss: 28.1359\n",
      "Epoch 55/100\n",
      "7654/7654 [==============================] - 1s 97us/sample - loss: 28.3256\n",
      "Epoch 56/100\n",
      "7654/7654 [==============================] - 1s 111us/sample - loss: 27.9033\n",
      "Epoch 57/100\n",
      "7654/7654 [==============================] - 1s 91us/sample - loss: 28.0202\n",
      "Epoch 58/100\n",
      "7654/7654 [==============================] - 1s 94us/sample - loss: 27.9222\n",
      "Epoch 59/100\n",
      "7654/7654 [==============================] - 1s 98us/sample - loss: 28.0357\n",
      "Epoch 60/100\n",
      "7654/7654 [==============================] - 1s 73us/sample - loss: 27.7670\n",
      "Epoch 61/100\n",
      "7654/7654 [==============================] - 1s 67us/sample - loss: 27.4933\n",
      "Epoch 62/100\n",
      "7654/7654 [==============================] - 1s 89us/sample - loss: 27.6780\n",
      "Epoch 63/100\n",
      "7654/7654 [==============================] - 1s 105us/sample - loss: 27.2278\n",
      "Epoch 64/100\n",
      "7654/7654 [==============================] - 1s 77us/sample - loss: 27.2277\n",
      "Epoch 65/100\n",
      "7654/7654 [==============================] - 1s 66us/sample - loss: 27.0280\n",
      "Epoch 66/100\n",
      "7654/7654 [==============================] - 1s 111us/sample - loss: 27.0343: 0s - loss: 27.09\n",
      "Epoch 67/100\n",
      "7654/7654 [==============================] - 1s 90us/sample - loss: 27.2525\n",
      "Epoch 68/100\n",
      "7654/7654 [==============================] - 1s 79us/sample - loss: 26.7885\n",
      "Epoch 69/100\n",
      "7654/7654 [==============================] - 1s 101us/sample - loss: 27.0623\n",
      "Epoch 70/100\n",
      "7654/7654 [==============================] - 1s 81us/sample - loss: 27.1395\n",
      "Epoch 71/100\n",
      "7654/7654 [==============================] - 1s 98us/sample - loss: 26.6435\n",
      "Epoch 72/100\n",
      "7654/7654 [==============================] - 1s 99us/sample - loss: 27.0700\n",
      "Epoch 73/100\n",
      "7654/7654 [==============================] - 1s 69us/sample - loss: 27.0960\n",
      "Epoch 74/100\n",
      "7654/7654 [==============================] - 1s 69us/sample - loss: 27.2954\n",
      "Epoch 75/100\n",
      "7654/7654 [==============================] - 1s 85us/sample - loss: 26.9860\n",
      "Epoch 76/100\n",
      "7654/7654 [==============================] - 1s 89us/sample - loss: 26.6388\n",
      "Epoch 77/100\n",
      "7654/7654 [==============================] - 1s 87us/sample - loss: 26.6037\n",
      "Epoch 78/100\n",
      "7654/7654 [==============================] - 1s 110us/sample - loss: 27.2868\n",
      "Epoch 79/100\n",
      "7654/7654 [==============================] - 1s 66us/sample - loss: 26.6624\n",
      "Epoch 80/100\n",
      "7654/7654 [==============================] - 1s 106us/sample - loss: 26.6630\n",
      "Epoch 81/100\n",
      "7654/7654 [==============================] - 1s 79us/sample - loss: 26.5290\n",
      "Epoch 82/100\n",
      "7654/7654 [==============================] - 0s 65us/sample - loss: 26.6685\n",
      "Epoch 83/100\n",
      "7654/7654 [==============================] - 1s 102us/sample - loss: 27.3913\n",
      "Epoch 84/100\n",
      "7654/7654 [==============================] - 1s 90us/sample - loss: 26.7305\n",
      "Epoch 85/100\n",
      "7654/7654 [==============================] - 1s 97us/sample - loss: 26.7546\n",
      "Epoch 86/100\n",
      "7654/7654 [==============================] - 1s 81us/sample - loss: 26.8322\n",
      "Epoch 87/100\n",
      "7654/7654 [==============================] - 1s 84us/sample - loss: 26.8768\n",
      "Epoch 88/100\n",
      "7654/7654 [==============================] - 1s 89us/sample - loss: 26.7099\n",
      "Epoch 89/100\n",
      "7654/7654 [==============================] - 1s 91us/sample - loss: 26.7787\n",
      "Epoch 90/100\n",
      "7654/7654 [==============================] - 1s 76us/sample - loss: 26.5053\n",
      "Epoch 91/100\n",
      "7654/7654 [==============================] - 1s 85us/sample - loss: 26.5819\n"
     ]
    },
    {
     "name": "stdout",
     "output_type": "stream",
     "text": [
      "Epoch 92/100\n",
      "7654/7654 [==============================] - 1s 87us/sample - loss: 26.4076\n",
      "Epoch 93/100\n",
      "7654/7654 [==============================] - 1s 110us/sample - loss: 26.9554\n",
      "Epoch 94/100\n",
      "7654/7654 [==============================] - 0s 55us/sample - loss: 26.5233\n",
      "Epoch 95/100\n",
      "7654/7654 [==============================] - 1s 90us/sample - loss: 26.4152\n",
      "Epoch 96/100\n",
      "7654/7654 [==============================] - 1s 93us/sample - loss: 26.8541\n",
      "Epoch 97/100\n",
      "7654/7654 [==============================] - 1s 88us/sample - loss: 26.5272\n",
      "Epoch 98/100\n",
      "7654/7654 [==============================] - 1s 92us/sample - loss: 27.4547\n",
      "Epoch 99/100\n",
      "7654/7654 [==============================] - 1s 79us/sample - loss: 26.4105\n",
      "Epoch 100/100\n",
      "7654/7654 [==============================] - 1s 92us/sample - loss: 26.4931\n"
     ]
    },
    {
     "data": {
      "text/plain": [
       "<tensorflow.python.keras.callbacks.History at 0x22c53e18ac8>"
      ]
     },
     "execution_count": 10,
     "metadata": {},
     "output_type": "execute_result"
    }
   ],
   "source": [
    "ann.fit(X_train, y_train, batch_size = 32, epochs = 100)"
   ]
  },
  {
   "cell_type": "markdown",
   "metadata": {
    "colab_type": "text",
    "id": "0H0zKKNEBLD5"
   },
   "source": [
    "### Predicting the results of the Test set"
   ]
  },
  {
   "cell_type": "code",
   "execution_count": 11,
   "metadata": {
    "colab": {
     "base_uri": "https://localhost:8080/",
     "height": 134
    },
    "colab_type": "code",
    "id": "IA0yApEmBG1X",
    "outputId": "cb981e1f-9204-4a2a-fece-9d66a6919189"
   },
   "outputs": [
    {
     "name": "stdout",
     "output_type": "stream",
     "text": [
      "[[429.97 431.23]\n",
      " [461.22 460.01]\n",
      " [464.84 461.14]\n",
      " ...\n",
      " [471.82 473.26]\n",
      " [439.12 438.  ]\n",
      " [458.12 463.28]]\n"
     ]
    }
   ],
   "source": [
    "y_pred = ann.predict(X_test)\n",
    "np.set_printoptions(precision=2)\n",
    "print(np.concatenate((y_pred.reshape(len(y_pred),1), y_test.reshape(len(y_test),1)),1))"
   ]
  },
  {
   "cell_type": "code",
   "execution_count": null,
   "metadata": {},
   "outputs": [],
   "source": []
  }
 ],
 "metadata": {
  "colab": {
   "collapsed_sections": [],
   "name": "Artificial Neural Network",
   "provenance": [],
   "toc_visible": true
  },
  "kernelspec": {
   "display_name": "Python 3",
   "language": "python",
   "name": "python3"
  },
  "language_info": {
   "codemirror_mode": {
    "name": "ipython",
    "version": 3
   },
   "file_extension": ".py",
   "mimetype": "text/x-python",
   "name": "python",
   "nbconvert_exporter": "python",
   "pygments_lexer": "ipython3",
   "version": "3.7.4"
  }
 },
 "nbformat": 4,
 "nbformat_minor": 1
}
